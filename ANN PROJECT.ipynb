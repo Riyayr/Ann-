{
 "cells": [
  {
   "cell_type": "code",
   "execution_count": 1,
   "id": "bc728682-a7af-4ec0-b0fa-625bc2ab17cb",
   "metadata": {},
   "outputs": [
    {
     "name": "stdout",
     "output_type": "stream",
     "text": [
      "Requirement already satisfied: opencv--python in c:\\users\\admin\\anaconda3\\lib\\site-packages (4.9.0.80)\n",
      "Requirement already satisfied: numpy>=1.21.2 in c:\\users\\admin\\anaconda3\\lib\\site-packages (from opencv--python) (1.26.4)\n"
     ]
    }
   ],
   "source": [
    "!pip3 install opencv--python\n"
   ]
  },
  {
   "cell_type": "code",
   "execution_count": 2,
   "id": "1aa4a075-db36-4978-9c90-a89879697be5",
   "metadata": {},
   "outputs": [],
   "source": [
    "import cv2\n",
    "import pandas as pd\n"
   ]
  },
  {
   "cell_type": "code",
   "execution_count": 3,
   "id": "f8e25146-31a6-441b-ab61-1ad402fe7c76",
   "metadata": {},
   "outputs": [],
   "source": [
    "img = cv2.imread('colorpic.jpg')"
   ]
  },
  {
   "cell_type": "code",
   "execution_count": 4,
   "id": "10b72965-328d-4dbc-aafa-698c36c2efb6",
   "metadata": {},
   "outputs": [],
   "source": [
    "index=[\"color\",\"color_name\",\"hex\",\"R\",\"G\",\"B\"]\n",
    "col=pd.read_csv(\"colors.csv\",names=index,header=None)"
   ]
  },
  {
   "cell_type": "code",
   "execution_count": 5,
   "id": "a0a0966e-c20a-44d3-b71f-6954060d2170",
   "metadata": {},
   "outputs": [],
   "source": [
    "def getColorName(R,G,B):\n",
    "  minimum=1000\n",
    "  for i in range(len(col)):\n",
    "    d=abs(R-int(col.loc[i,\"R\"]))+abs(G- int(col.loc[i,\"G\"]))+abs(B-int(col.loc[i,\"B\"]))\n",
    "    if(d<minimum):\n",
    "      minimum=d\n",
    "      color_name=col.loc[i,\"color_name\"]\n",
    "    return color_name"
   ]
  },
  {
   "cell_type": "code",
   "execution_count": 6,
   "id": "e10d90a1-8471-4bbd-9c35-1f9492089628",
   "metadata": {},
   "outputs": [],
   "source": [
    "clicked=False\n",
    "r=g=b=xops=yops=0"
   ]
  },
  {
   "cell_type": "code",
   "execution_count": 7,
   "id": "4caffb6d-c2cb-48d6-8d99-9a88e60ec437",
   "metadata": {},
   "outputs": [],
   "source": [
    "def draw_function(event,x,y,flags,pram):\n",
    "  if event==cv2.EVENT_LBUTTONDBLCLK:\n",
    "    global b,g,r,xpos,ypos,clicked\n",
    "    clicked=True\n",
    "    xpos=x\n",
    "    ypos=yb,g,r=img[y,x]\n",
    "    b=int(b)\n",
    "    g=int(g)\n",
    "    r=int(r)"
   ]
  },
  {
   "cell_type": "code",
   "execution_count": 8,
   "id": "b5f05d10-a61e-46a6-9c3d-2cfc94751ede",
   "metadata": {},
   "outputs": [],
   "source": [
    "cv2.namedWindow('color detection')\n",
    "cv2.setMouseCallback('color detection',draw_function)"
   ]
  },
  {
   "cell_type": "code",
   "execution_count": 9,
   "id": "07d1ac14-4d7d-439f-a121-a6ab94f57016",
   "metadata": {},
   "outputs": [],
   "source": [
    "cv2.namedWindow('color detection')\n",
    "cv2.setMouseCallback('color detection',draw_function)"
   ]
  },
  {
   "cell_type": "code",
   "execution_count": null,
   "id": "820d0d63-400d-4f37-bbcd-331d0a7c1be2",
   "metadata": {},
   "outputs": [],
   "source": [
    "while(1):\n",
    "  cv2.imread('color detection')\n",
    "  if(clicked):\n",
    "    cv2.rectangle(img,(750,60),(20,20),(b,g,r),-1)\n",
    "    color_name=getColorName(r,g,b)+'R='+str(r)+'G='+str(g)+'B='+str(b)\n",
    "    cv2.putText(img,color_name,(50,50),2,0.8,(0,0,0),2,cv2.LINE_AA)\n",
    "    if(r+g+b>=600):\n",
    "      cv2.putText(img,color_name,(50,50),2,0.8,(0,0,0),2,cv2.LINE_AA)\n",
    "      clicked=False\n",
    "  if cv2.waitKey(20) & 0xFF==27:\n",
    "    break\n",
    "\n",
    "cv2.destroyAllWindows()"
   ]
  },
  {
   "cell_type": "code",
   "execution_count": null,
   "id": "dd88ad53-5262-4015-9816-ab8c081d6d81",
   "metadata": {},
   "outputs": [],
   "source": [
    "\n",
    "import cv2\n",
    "img = cv2.imread('logo.png', cv2.IMREAD_UNCHANGED)\n",
    "cv2_imshow(img)"
   ]
  },
  {
   "cell_type": "code",
   "execution_count": null,
   "id": "0682ff40-2005-4c1b-81e0-31776ed0fbbe",
   "metadata": {},
   "outputs": [],
   "source": [
    "\n",
    "import cv2\n",
    "img = cv2.imread('logo.png', cv2.IMREAD_UNCHANGED)\n",
    "cv2_imshow(img)"
   ]
  },
  {
   "cell_type": "code",
   "execution_count": null,
   "id": "37e21169-785a-4f39-b2c9-9f5b47e1ffd9",
   "metadata": {},
   "outputs": [],
   "source": [
    "import numpy as np\n",
    "hsv=cv2.cvtColor(img,cv2.COLOR_BGR2HSV)\n",
    "color=np.unit8([[[b,g,r]]])\n",
    "hsv_color=cv2.cvtColor(color,cv2.COLOR_BGR2HSV)\n",
    "lower_range=np.array([hsv_color[0][0][0]-10,100,10])\n",
    "upper_range=np.array([hsv_color[0][0][0]+10,255,255])\n",
    "mask=cv2.inRange(hsv,lower_range,upper_range)\n",
    "cv2.imshow('mask',mask)\n",
    "cv2.waitKey(0)\n",
    "cv2.destroyAllWindows()"
   ]
  }
 ],
 "metadata": {
  "kernelspec": {
   "display_name": "Python 3 (ipykernel)",
   "language": "python",
   "name": "python3"
  },
  "language_info": {
   "codemirror_mode": {
    "name": "ipython",
    "version": 3
   },
   "file_extension": ".py",
   "mimetype": "text/x-python",
   "name": "python",
   "nbconvert_exporter": "python",
   "pygments_lexer": "ipython3",
   "version": "3.11.7"
  }
 },
 "nbformat": 4,
 "nbformat_minor": 5
}
